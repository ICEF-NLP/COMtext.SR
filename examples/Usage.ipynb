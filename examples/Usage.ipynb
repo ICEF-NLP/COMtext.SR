{
 "cells": [
  {
   "cell_type": "markdown",
   "metadata": {},
   "source": [
    "# Priprema\n",
    "\n",
    "Učitavanje neophodnih biblioteka i inicijalizacija tokenizatora i jezičkog modela"
   ]
  },
  {
   "cell_type": "code",
   "execution_count": null,
   "metadata": {},
   "outputs": [],
   "source": [
    "import sys\n",
    "main_folder = '/'.join(sys.path[0].split('/')[:-1])\n",
    "sys.path.append(main_folder)"
   ]
  },
  {
   "cell_type": "code",
   "execution_count": null,
   "metadata": {},
   "outputs": [],
   "source": [
    "from simpletransformers.ner import ner_model\n",
    "import json\n",
    "import classla\n",
    "from helpers.lemmatizer import load_dictionary, get_lemma, DIALECT_INDEX_EKAVICA, DIALECT_INDEX_IJEKAVICA\n",
    "\n",
    "with open('labels.json', 'r') as label_file:\n",
    "    labels = json.load(label_file)\n",
    "    \n",
    "model = ner_model.NERModel('electra',  'ICEF-NLP/bcms-bertic-comtext-sr-legal-msd-ekavica', \n",
    "                           use_cuda=False, ignore_mismatched_sizes=True, labels=labels)\n",
    "\n",
    "classla.download('sr', processors='tokenize')\n",
    "nlp = classla.Pipeline('sr', processors='tokenize')"
   ]
  },
  {
   "cell_type": "markdown",
   "metadata": {},
   "source": [
    "# Tokenizacija rečenica\n",
    "\n",
    "Tokenizacija se vrši uz pomoć CLASSLA tokenizatora za srpski jezik"
   ]
  },
  {
   "cell_type": "code",
   "execution_count": null,
   "metadata": {},
   "outputs": [],
   "source": [
    "examples = ['Sudija je izdao propis 1. klase i 2. reda.', \n",
    "            'Sud je po prijemu tužbe započeo pripreme za glavnu raspravu koje su obuhvatale i dostavu tužbe tuženom na odgovor u skladu odredbi člana 274 Zakona o parničnom postupku.',\n",
    "            'OBAVEZUJE SE tuženi Zorić Andrija iz Beograda ulica Sarajevska br. 101 da tužilji Kostić Mari iz Beograda ul. Miše Vujića br. 2 vrati iznos od 145.000 evra u roku od 15 dana od dana prijema pisanog otpravka presude pod pretnjom izvršenja.']\n",
    "\n",
    "\n",
    "classla_tokenized = []\n",
    "\n",
    "for sentence in examples:\n",
    "\n",
    "    doc = nlp(sentence)\n",
    "    tokenized_sentence = []\n",
    "    for word in doc.iter_words():\n",
    "        tokenized_sentence.append(word.text)\n",
    "    classla_tokenized.append(tokenized_sentence)\n",
    "\n",
    "\n",
    "print(classla_tokenized)"
   ]
  },
  {
   "cell_type": "markdown",
   "metadata": {},
   "source": [
    "# Učitavanje rečnika za lematizaciju\n",
    "\n",
    "Kako se ne bi učitavao ceo rečnik u memoriju, učitavaju se samo podaci vezani za reči koje se nalaze u primerima"
   ]
  },
  {
   "cell_type": "code",
   "execution_count": null,
   "metadata": {},
   "outputs": [],
   "source": [
    "# neophodno je postaviti putanju do rečnika\n",
    "DICTIONARY_PATHS = ['srLex_v1.3', 'hrLex_v1.3']\n",
    "\n",
    "wordlist = [j for i in classla_tokenized for j in i]\n",
    "load_dictionary(DICTIONARY_PATHS[DIALECT_INDEX_EKAVICA], wordlist, DIALECT_INDEX_EKAVICA, 'ICEF-NLP/bcms-bertic-comtext-sr-legal-msd-ekavica')"
   ]
  },
  {
   "cell_type": "markdown",
   "metadata": {},
   "source": [
    "# Korišćenje modela za morfološko tagovanje i lematizaciju\n",
    "\n",
    "Jezički model za svaki token predvidja morfološku oznaku, uz pomoć koje se vrši pretraga u rečniku i tako se dobija i lema za svaku reč"
   ]
  },
  {
   "cell_type": "code",
   "execution_count": null,
   "metadata": {},
   "outputs": [],
   "source": [
    "preds_list, model_outputs = model.predict(classla_tokenized, split_on_space=False)\n",
    "\n",
    "for word in preds_list[0]:\n",
    "    token = list(word.keys())[0]\n",
    "    tag = list(word.values())[0]\n",
    "    lemma = get_lemma(list(word.values())[0], list(word.keys())[0], DIALECT_INDEX_EKAVICA)['text']\n",
    "    print(token, tag, lemma)\n",
    "    "
   ]
  },
  {
   "cell_type": "code",
   "execution_count": null,
   "metadata": {},
   "outputs": [],
   "source": []
  }
 ],
 "metadata": {
  "kernelspec": {
   "display_name": "Python 3 (ipykernel)",
   "language": "python",
   "name": "python3"
  },
  "language_info": {
   "codemirror_mode": {
    "name": "ipython",
    "version": 3
   },
   "file_extension": ".py",
   "mimetype": "text/x-python",
   "name": "python",
   "nbconvert_exporter": "python",
   "pygments_lexer": "ipython3",
   "version": "3.9.5"
  }
 },
 "nbformat": 4,
 "nbformat_minor": 4
}
